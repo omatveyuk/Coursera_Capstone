{
 "cells": [
  {
   "cell_type": "markdown",
   "metadata": {},
   "source": [
    "# San Francisco Neighborhoods"
   ]
  },
  {
   "cell_type": "markdown",
   "metadata": {},
   "source": [
    "### Introduction/Bussiness Problem\n",
    "Data analysis from public sources to identify family friendly neighborhoods (more parks, sport activities, culture spots and less bars and urbunt development). <br>\n",
    "San Francisco is a popular tourist distanantion. Also it is famous as a big financial center. Usually family people with children prefer to leave outside the city. My objective is to find neighborhoods of San Francisco with 'good' work-life balance."
   ]
  },
  {
   "cell_type": "markdown",
   "metadata": {},
   "source": [
    "### Data\n",
    "Neighborhods of San Francisco (real estate site): http://www.houseofkinoko.com/district-guide/ <br>\n",
    "Venues of each neighborhoods: https://api.foursquare.com <br>\n",
    "I will use geopy library to find coordinates of each neighborhoods. Unfortunately, geopy sometimes finds coordinates not correctly. In this case I will find significant points for such neighborhoods using Google."
   ]
  },
  {
   "cell_type": "markdown",
   "metadata": {},
   "source": [
    "### Metodology\n",
    "Use K-means clustering to define 4 clusters. Analyze each cluster and find the cluster which matches my goal."
   ]
  },
  {
   "cell_type": "code",
   "execution_count": null,
   "metadata": {},
   "outputs": [],
   "source": []
  }
 ],
 "metadata": {
  "kernelspec": {
   "display_name": "ms_forecasting",
   "language": "python",
   "name": "ms_forecasting"
  },
  "language_info": {
   "codemirror_mode": {
    "name": "ipython",
    "version": 3
   },
   "file_extension": ".py",
   "mimetype": "text/x-python",
   "name": "python",
   "nbconvert_exporter": "python",
   "pygments_lexer": "ipython3",
   "version": "3.6.8"
  }
 },
 "nbformat": 4,
 "nbformat_minor": 2
}
